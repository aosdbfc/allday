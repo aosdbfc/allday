{
  "nbformat": 4,
  "nbformat_minor": 0,
  "metadata": {
    "colab": {
      "provenance": [],
      "toc_visible": true
    },
    "kernelspec": {
      "name": "python3",
      "display_name": "Python 3"
    },
    "language_info": {
      "name": "python"
    }
  },
  "cells": [
    {
      "cell_type": "markdown",
      "source": [
        "### 3. 리스트"
      ],
      "metadata": {
        "id": "dOcZS5TVqxvh"
      }
    },
    {
      "cell_type": "code",
      "source": [
        "# 리스트와 리스트 인덱싱\n",
        "\n",
        "# 리스트 생성\n",
        "member = ['피카츄', '라이츄', '파이리', '꼬부기', '버터플', '야도란', '피죤투', '또가스']\n",
        "print('지우의 포켓몬 후보:', member)\n",
        "\n",
        "# 리스트 인덱싱\n",
        "print('지우의 첫 번째 포켓몬: ', member[0])\n",
        "print('지우의 세 번째 포켓몬: ', member[4])\n",
        "print('지우의 마지막 포켓몬: ', member[-1])"
      ],
      "metadata": {
        "colab": {
          "base_uri": "https://localhost:8080/"
        },
        "id": "dpwbjPaYqmvb",
        "outputId": "db296c7f-fca8-482b-90cf-186f17025187"
      },
      "execution_count": 3,
      "outputs": [
        {
          "output_type": "stream",
          "name": "stdout",
          "text": [
            "지우의 포켓몬 후보: ['피카츄', '라이츄', '파이리', '꼬부기', '버터플', '야도란', '피죤투', '또가스']\n",
            "지우의 첫 번째 포켓몬:  피카츄\n",
            "지우의 세 번째 포켓몬:  버터플\n",
            "지우의 마지막 포켓몬:  또가스\n"
          ]
        }
      ]
    },
    {
      "cell_type": "code",
      "source": [
        "# 리스트 원소 변경\n",
        "\n",
        "# 파이리가 진화해서 리자몽으로 바뀌었다면?\n",
        "member[2] = '리자몽'\n",
        "\n",
        "print('지우의 변경된 포켓몬 후보:', member[2])"
      ],
      "metadata": {
        "colab": {
          "base_uri": "https://localhost:8080/"
        },
        "id": "8J4LA_aVqmx5",
        "outputId": "236f12ef-fa9c-437a-c00a-0840c2a236e9"
      },
      "execution_count": 4,
      "outputs": [
        {
          "output_type": "stream",
          "name": "stdout",
          "text": [
            "지우의 변경된 포켓몬 후보: 리자몽\n"
          ]
        }
      ]
    },
    {
      "cell_type": "code",
      "source": [
        "# 리스트 원소 제거\n",
        "\n",
        "# 야도란과 또가스는 지우의 포켓몬이 아니었다면?\n",
        "\n",
        "# 원소 제거 방법 (1) list.remove\n",
        "member.remove('야도란')\n",
        "\n",
        "\n",
        "# 원소 제거 방법 (2) del\n",
        "i = member.index('또가스')\n",
        "print(i)\n",
        "del member[i]\n",
        "\n",
        "print('지우에게 남은 포켓몬:', member)"
      ],
      "metadata": {
        "colab": {
          "base_uri": "https://localhost:8080/"
        },
        "id": "Y1g3udblqxWd",
        "outputId": "e5f41ca8-28ed-4d03-8308-1ec63467fdd8"
      },
      "execution_count": 5,
      "outputs": [
        {
          "output_type": "stream",
          "name": "stdout",
          "text": [
            "6\n",
            "지우에게 남은 포켓몬: ['피카츄', '라이츄', '리자몽', '꼬부기', '버터플', '피죤투']\n"
          ]
        }
      ]
    },
    {
      "cell_type": "markdown",
      "source": [
        "### 4. 조건문"
      ],
      "metadata": {
        "id": "Honp29Bcqq9J"
      }
    },
    {
      "cell_type": "code",
      "source": [
        "# 조건문\n",
        "\n",
        "# 지우가 보유할 수 있는 포켓몬은 최대 6마리이다.\n",
        "# 6마리가 넘으면 뒤에서부터 6마리를 남겨둡니다.\n",
        "\n",
        "print('지우가 보유한 포켓몬 수', len(member), '마리') #len은 length의 줄임말로 리스트의 길이를 확인할 수 있습니다.\n",
        "\n",
        "if len(member) > 6: # if (조건문):\n",
        "    member = member[-6:] # 리스트 슬라이싱, 뒤에서부터 6마리\n",
        "    print('지우가 보유하고 있는 6마리의 포켓몬:', member)"
      ],
      "metadata": {
        "colab": {
          "base_uri": "https://localhost:8080/"
        },
        "id": "C7s2_w3uqmtZ",
        "outputId": "cfb654cc-ccd2-40cd-ea8f-5689a305bd1a"
      },
      "execution_count": 6,
      "outputs": [
        {
          "output_type": "stream",
          "name": "stdout",
          "text": [
            "지우가 보유한 포켓몬 수 6 마리\n"
          ]
        }
      ]
    },
    {
      "cell_type": "markdown",
      "source": [
        "### 5. 튜플과 딕셔너리"
      ],
      "metadata": {
        "id": "DmtJqxiWqetu"
      }
    },
    {
      "cell_type": "code",
      "source": [
        "# 튜플\n",
        "\n",
        "# 포켓몬의 타입을 지정해보자.\n",
        "member_type_list = [('물'), ('벌레', '비행'), ('노말', '비행'), ('노말'), ('바위', '땅'), ('바위')]\n",
        "member_type = zip(member, member_type_list) # zip() 함수는 리스트를 인덱스 순서에 맞게 튜플 형태로 묶어줍니다.\n",
        "print(list(member_type))"
      ],
      "metadata": {
        "colab": {
          "base_uri": "https://localhost:8080/"
        },
        "id": "f-3RgFsnqid4",
        "outputId": "743bd2a3-b051-42d4-8021-965c0e9e9a52"
      },
      "execution_count": 7,
      "outputs": [
        {
          "output_type": "stream",
          "name": "stdout",
          "text": [
            "[('피카츄', '물'), ('라이츄', ('벌레', '비행')), ('리자몽', ('노말', '비행')), ('꼬부기', '노말'), ('버터플', ('바위', '땅')), ('피죤투', '바위')]\n"
          ]
        }
      ]
    },
    {
      "cell_type": "code",
      "source": [
        "# 튜플\n",
        "\n",
        "# 포켓몬의 타입을 지정해보자.\n",
        "member_type_list = [('물'), ('벌레', '비행'), ('노말', '비행'), ('노말'), ('바위', '땅'), ('바위')]\n",
        "member_type = zip(member, member_type_list) # zip() 함수는 리스트를 인덱스 순서에 맞게 튜플 형태로 묶어줍니다.\n",
        "print(list(member_type))"
      ],
      "metadata": {
        "colab": {
          "base_uri": "https://localhost:8080/"
        },
        "id": "3rFcRuFjqkGA",
        "outputId": "f35766ed-db84-4930-ff20-de0794054762"
      },
      "execution_count": 8,
      "outputs": [
        {
          "output_type": "stream",
          "name": "stdout",
          "text": [
            "[('피카츄', '물'), ('라이츄', ('벌레', '비행')), ('리자몽', ('노말', '비행')), ('꼬부기', '노말'), ('버터플', ('바위', '땅')), ('피죤투', '바위')]\n"
          ]
        }
      ]
    },
    {
      "cell_type": "code",
      "source": [
        "# 딕셔너리\n",
        "member_type = zip(member, member_type_list)\n",
        "\n",
        "pokedex = dict(member_type)\n",
        "pokemon = '버터플'\n",
        "print(pokemon+'의 특성:', pokedex[pokemon]) # 딕셔너리 형태는 키 값으로 검색이 가능합니다.\n",
        "print(pokemon+'의 첫 번째 특성:', pokedex[pokemon][0])\n",
        "print(pokemon+'의 두 번째 특성:', pokedex[pokemon][1])"
      ],
      "metadata": {
        "colab": {
          "base_uri": "https://localhost:8080/"
        },
        "id": "8rrtatcqrDnM",
        "outputId": "d2a1039d-846a-40d6-c67f-fafcbb5759b0"
      },
      "execution_count": 9,
      "outputs": [
        {
          "output_type": "stream",
          "name": "stdout",
          "text": [
            "버터플의 특성: ('바위', '땅')\n",
            "버터플의 첫 번째 특성: 바위\n",
            "버터플의 두 번째 특성: 땅\n"
          ]
        }
      ]
    },
    {
      "cell_type": "markdown",
      "source": [
        "### 6. 반복문"
      ],
      "metadata": {
        "id": "FQrqAItXsJa2"
      }
    },
    {
      "cell_type": "code",
      "source": [
        "# 반복문\n",
        "\n",
        "n = 0\n",
        "for pokemon in member :\n",
        "  n += 1\n",
        "  print(n , '번 포켓몬', pokemon)"
      ],
      "metadata": {
        "colab": {
          "base_uri": "https://localhost:8080/"
        },
        "id": "poenlHD3rpct",
        "outputId": "a501f479-eb30-4d7d-ef10-5d717d60c351"
      },
      "execution_count": 10,
      "outputs": [
        {
          "output_type": "stream",
          "name": "stdout",
          "text": [
            "1 번 포켓몬 피카츄\n",
            "2 번 포켓몬 라이츄\n",
            "3 번 포켓몬 리자몽\n",
            "4 번 포켓몬 꼬부기\n",
            "5 번 포켓몬 버터플\n",
            "6 번 포켓몬 피죤투\n"
          ]
        }
      ]
    },
    {
      "cell_type": "markdown",
      "source": [
        "## 네이버 뉴스 크롤링\n",
        "네이버에 'AI' 키워드로 검색한 뉴스 기사 결과 중 네이버 뉴스 링크가 있는 경우,<br>\n",
        "해당 네이버 뉴스의 본문 내용을 크롤링하는 실습을 해보도록 하겠습니다.<br>\n",
        "<br>\n",
        "첫 번째로, 네이버 뉴스 기사의 링크를 수집하고,<br>\n",
        "두 번째로, 네이버 뉴스 본문을 수집하겠습니다.<br>\n",
        "<br>\n",
        "이 실습 이후에는 대량의 데이터를 한 번에 수집할 수 있는 코드를 만들어 보겠습니다."
      ],
      "metadata": {
        "id": "xpk5I26GsaR4"
      }
    },
    {
      "cell_type": "markdown",
      "source": [
        "### BeautifulSoup\n",
        "우선 html 소스 코드를 불러와 BeautifulSoup으로 원하는 정보를 파싱해보도록 하겠습니다."
      ],
      "metadata": {
        "id": "wuHOJFMRsddW"
      }
    },
    {
      "cell_type": "code",
      "source": [
        "# 필요한 라이브러리(패키지) 불러오기\n",
        "import requests \n",
        "from bs4 import BeautifulSoup\n",
        "import time \n",
        "\n"
      ],
      "metadata": {
        "id": "ax4P3jH9scSv"
      },
      "execution_count": 12,
      "outputs": []
    },
    {
      "cell_type": "code",
      "source": [
        "# Requests\n",
        "url = 'https://search.naver.com/search.naver?where=news&sm=tab_pge&query=AI'\n",
        "r = requests.get(url)\n",
        "print(r)"
      ],
      "metadata": {
        "id": "p1CaJDnksiHc"
      },
      "execution_count": null,
      "outputs": []
    },
    {
      "cell_type": "code",
      "source": [
        "# BeautifulSoup\n",
        "html = r.text\n",
        "soup = BeautifulSoup(html, 'html.parser')"
      ],
      "metadata": {
        "id": "P03eNohRsiKL"
      },
      "execution_count": 30,
      "outputs": []
    },
    {
      "cell_type": "code",
      "source": [
        "# 원하는 태그 찾기\n",
        "# soup.find('태그', attrs = {'속성 키1': '속성 값1', '속성 키2': '속성 값2'})\n",
        "soup.find('a',attrs = {'class': 'news_tit'})"
      ],
      "metadata": {
        "colab": {
          "base_uri": "https://localhost:8080/"
        },
        "id": "FOkVZ5vosiNN",
        "outputId": "c0ce1290-d027-4381-dc4b-876ca36a6654"
      },
      "execution_count": 32,
      "outputs": [
        {
          "output_type": "execute_result",
          "data": {
            "text/plain": [
              "<a class=\"news_tit\" href=\"http://www.fnnews.com/news/202301300947102089\" onclick=\"return goOtherCR(this, 'a=nws*h.tit&amp;r=1&amp;i=880000FF_000000000000000004961482&amp;g=014.0004961482&amp;u='+urlencode(this.href));\" target=\"_blank\" title=\"JW중외, 獨머크와 AI 신약 원료의약품 개발 위해 맞손\">JW중외, 獨머크와 <mark>AI</mark> 신약 원료의약품 개발 위해 맞손</a>"
            ]
          },
          "metadata": {},
          "execution_count": 32
        }
      ]
    },
    {
      "cell_type": "code",
      "source": [
        "# 원하는 정보 추출하기\n",
        "title = soup.find('a',attrs = {'class': 'news_tit'}).text\n",
        "link = soup.find('a',attrs = {'class': 'news_tit'}).get('href')\n",
        "\n",
        "print(title, link)"
      ],
      "metadata": {
        "colab": {
          "base_uri": "https://localhost:8080/"
        },
        "id": "kjiKKAewspHe",
        "outputId": "7df1d351-a832-4e74-c8f1-e7cc45f112e3"
      },
      "execution_count": 33,
      "outputs": [
        {
          "output_type": "stream",
          "name": "stdout",
          "text": [
            "JW중외, 獨머크와 AI 신약 원료의약품 개발 위해 맞손 http://www.fnnews.com/news/202301300947102089\n"
          ]
        }
      ]
    },
    {
      "cell_type": "code",
      "source": [
        "# find_all을 활용하여 페이지에서 원하는 모든 정보 추출하기\n",
        "url_tag_list = soup.find_all('a', attrs = {'class': 'news_tit'})"
      ],
      "metadata": {
        "id": "Tn_N9KeAsqXc"
      },
      "execution_count": 35,
      "outputs": []
    },
    {
      "cell_type": "code",
      "source": [
        "# 반복문을 활용하여 모든 태그에서 url 추출하기\n",
        "for url in url_tag_list:\n",
        "  print(url.get('href'))"
      ],
      "metadata": {
        "colab": {
          "base_uri": "https://localhost:8080/"
        },
        "id": "sZsHVmQxsqZe",
        "outputId": "ebb5d889-3f84-45c9-dd96-cea602bbfef4"
      },
      "execution_count": 36,
      "outputs": [
        {
          "output_type": "stream",
          "name": "stdout",
          "text": [
            "http://www.fnnews.com/news/202301300947102089\n",
            "http://moneys.mt.co.kr/news/mwView.php?no=2023013010172936655\n",
            "https://www.yna.co.kr/view/AKR20230130116300009?input=1195m\n",
            "https://www.etnews.com/20230130000092\n",
            "https://www.hankyung.com/it/article/2023013026941\n",
            "http://www.edaily.co.kr/news/newspath.asp?newsid=01918806635482968\n",
            "http://sports.chosun.com/news/ntype.htm?id=202301310100189940023676&servicedate=20230130\n",
            "https://it.chosun.com/site/data/html_dir/2023/01/30/2023013001219.html\n",
            "https://biz.chosun.com/it-science/ict/2023/01/30/Z2ZATLWUUFCWXJG35EGFRWATJY/?utm_source=naver&utm_medium=original&utm_campaign=biz\n",
            "http://www.newsis.com/view/?id=NISX20230130_0002174738&cID=10205&pID=10200\n"
          ]
        }
      ]
    },
    {
      "cell_type": "code",
      "source": [
        "# 반복문을 활용하여 url을 리스트에 저장하기\n",
        "url_list = []\n",
        "for url_tag in url_tag_list:\n",
        "    url = url_tag.get('href')\n",
        "    url_list.append(url)\n",
        "\n",
        "url_list"
      ],
      "metadata": {
        "id": "ZExjTNwIsqbT"
      },
      "execution_count": null,
      "outputs": []
    },
    {
      "cell_type": "code",
      "source": [
        "# map과 lambda 함수를 활용하여 리스트에 저장하기\n",
        "list(map(lambda x: x.get('href'), url_tag_list))"
      ],
      "metadata": {
        "id": "1moPqWNOsuaN"
      },
      "execution_count": null,
      "outputs": []
    },
    {
      "cell_type": "code",
      "source": [
        "# test_url 지정\n",
        "test_url = url_list[0]"
      ],
      "metadata": {
        "id": "a6MAKTggsyax"
      },
      "execution_count": null,
      "outputs": []
    },
    {
      "cell_type": "code",
      "source": [
        "# requests 모듈 오류로 urlopen 모듈로 대체\n",
        "from urllib.request import urlopen"
      ],
      "metadata": {
        "id": "avpjoHOBsyig"
      },
      "execution_count": null,
      "outputs": []
    },
    {
      "cell_type": "code",
      "source": [
        "# urlopen으로 html 소스 코드 불러오기\n",
        "r = urlopen(test_url)\n",
        "html = r.read().decode(\"utf-8\") # 바이트(byte) 형태로 불러오기 때문에 디코딩 과정이 필요합니다.\n",
        "soup = BeautifulSoup(html, 'html.parser')"
      ],
      "metadata": {
        "id": "BOB510yhs0_o"
      },
      "execution_count": null,
      "outputs": []
    },
    {
      "cell_type": "code",
      "source": [
        "# 제목 수집 및 출력\n",
        "title = soup.find('h2').text\n",
        "print(title)"
      ],
      "metadata": {
        "id": "DV0eLYHGs2NO"
      },
      "execution_count": null,
      "outputs": []
    },
    {
      "cell_type": "code",
      "source": [
        "# 본문 내용 수집 및 출력\n",
        "content = soup.find('div', {'id' : 'dic_area'}).text\n",
        "print(content)"
      ],
      "metadata": {
        "id": "AxS04Qups2Rv"
      },
      "execution_count": null,
      "outputs": []
    },
    {
      "cell_type": "code",
      "source": [
        "# 언론사 수집\n",
        "# Your Code"
      ],
      "metadata": {
        "id": "58XH12pus2YA"
      },
      "execution_count": null,
      "outputs": []
    },
    {
      "cell_type": "code",
      "source": [
        "# 수집 결과\n",
        "result = title, content"
      ],
      "metadata": {
        "id": "5Yst1bdWs6aN"
      },
      "execution_count": null,
      "outputs": []
    },
    {
      "cell_type": "code",
      "source": [
        "# 사용자 정의 함수로 html 소스 코드 불러오기"
      ],
      "metadata": {
        "id": "PpvEd5zMs6ge"
      },
      "execution_count": null,
      "outputs": []
    }
  ]
}