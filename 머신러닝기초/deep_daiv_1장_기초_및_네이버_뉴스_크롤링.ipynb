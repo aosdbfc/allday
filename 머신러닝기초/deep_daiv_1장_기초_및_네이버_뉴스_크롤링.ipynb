{
 "cells": [
  {
   "cell_type": "markdown",
   "metadata": {
    "id": "dOcZS5TVqxvh"
   },
   "source": [
    "### 3. 리스트"
   ]
  },
  {
   "cell_type": "code",
   "execution_count": 3,
   "metadata": {
    "colab": {
     "base_uri": "https://localhost:8080/"
    },
    "id": "dpwbjPaYqmvb",
    "outputId": "db296c7f-fca8-482b-90cf-186f17025187"
   },
   "outputs": [
    {
     "name": "stdout",
     "output_type": "stream",
     "text": [
      "지우의 포켓몬 후보: ['피카츄', '라이츄', '파이리', '꼬부기', '버터플', '야도란', '피죤투', '또가스']\n",
      "지우의 첫 번째 포켓몬:  피카츄\n",
      "지우의 세 번째 포켓몬:  버터플\n",
      "지우의 마지막 포켓몬:  또가스\n"
     ]
    }
   ],
   "source": [
    "# 리스트와 리스트 인덱싱\n",
    "\n",
    "# 리스트 생성\n",
    "member = ['피카츄', '라이츄', '파이리', '꼬부기', '버터플', '야도란', '피죤투', '또가스']\n",
    "print('지우의 포켓몬 후보:', member)\n",
    "\n",
    "# 리스트 인덱싱\n",
    "print('지우의 첫 번째 포켓몬: ', member[0])\n",
    "print('지우의 세 번째 포켓몬: ', member[4])\n",
    "print('지우의 마지막 포켓몬: ', member[-1])"
   ]
  },
  {
   "cell_type": "code",
   "execution_count": 4,
   "metadata": {
    "colab": {
     "base_uri": "https://localhost:8080/"
    },
    "id": "8J4LA_aVqmx5",
    "outputId": "236f12ef-fa9c-437a-c00a-0840c2a236e9"
   },
   "outputs": [
    {
     "name": "stdout",
     "output_type": "stream",
     "text": [
      "지우의 변경된 포켓몬 후보: 리자몽\n"
     ]
    }
   ],
   "source": [
    "# 리스트 원소 변경\n",
    "\n",
    "# 파이리가 진화해서 리자몽으로 바뀌었다면?\n",
    "member[2] = '리자몽'\n",
    "\n",
    "print('지우의 변경된 포켓몬 후보:', member[2])"
   ]
  },
  {
   "cell_type": "code",
   "execution_count": 5,
   "metadata": {
    "colab": {
     "base_uri": "https://localhost:8080/"
    },
    "id": "Y1g3udblqxWd",
    "outputId": "e5f41ca8-28ed-4d03-8308-1ec63467fdd8"
   },
   "outputs": [
    {
     "name": "stdout",
     "output_type": "stream",
     "text": [
      "6\n",
      "지우에게 남은 포켓몬: ['피카츄', '라이츄', '리자몽', '꼬부기', '버터플', '피죤투']\n"
     ]
    }
   ],
   "source": [
    "# 리스트 원소 제거\n",
    "\n",
    "# 야도란과 또가스는 지우의 포켓몬이 아니었다면?\n",
    "\n",
    "# 원소 제거 방법 (1) list.remove\n",
    "member.remove('야도란')\n",
    "\n",
    "\n",
    "# 원소 제거 방법 (2) del\n",
    "i = member.index('또가스')\n",
    "print(i)\n",
    "del member[i]\n",
    "\n",
    "print('지우에게 남은 포켓몬:', member)"
   ]
  },
  {
   "cell_type": "markdown",
   "metadata": {
    "id": "Honp29Bcqq9J"
   },
   "source": [
    "### 4. 조건문"
   ]
  },
  {
   "cell_type": "code",
   "execution_count": 6,
   "metadata": {
    "colab": {
     "base_uri": "https://localhost:8080/"
    },
    "id": "C7s2_w3uqmtZ",
    "outputId": "cfb654cc-ccd2-40cd-ea8f-5689a305bd1a"
   },
   "outputs": [
    {
     "name": "stdout",
     "output_type": "stream",
     "text": [
      "지우가 보유한 포켓몬 수 6 마리\n"
     ]
    }
   ],
   "source": [
    "# 조건문\n",
    "\n",
    "# 지우가 보유할 수 있는 포켓몬은 최대 6마리이다.\n",
    "# 6마리가 넘으면 뒤에서부터 6마리를 남겨둡니다.\n",
    "\n",
    "print('지우가 보유한 포켓몬 수', len(member), '마리') #len은 length의 줄임말로 리스트의 길이를 확인할 수 있습니다.\n",
    "\n",
    "if len(member) > 6: # if (조건문):\n",
    "    member = member[-6:] # 리스트 슬라이싱, 뒤에서부터 6마리\n",
    "    print('지우가 보유하고 있는 6마리의 포켓몬:', member)"
   ]
  },
  {
   "cell_type": "markdown",
   "metadata": {
    "id": "DmtJqxiWqetu"
   },
   "source": [
    "### 5. 튜플과 딕셔너리"
   ]
  },
  {
   "cell_type": "code",
   "execution_count": 7,
   "metadata": {
    "colab": {
     "base_uri": "https://localhost:8080/"
    },
    "id": "f-3RgFsnqid4",
    "outputId": "743bd2a3-b051-42d4-8021-965c0e9e9a52"
   },
   "outputs": [
    {
     "name": "stdout",
     "output_type": "stream",
     "text": [
      "[('피카츄', '물'), ('라이츄', ('벌레', '비행')), ('리자몽', ('노말', '비행')), ('꼬부기', '노말'), ('버터플', ('바위', '땅')), ('피죤투', '바위')]\n"
     ]
    }
   ],
   "source": [
    "# 튜플\n",
    "\n",
    "# 포켓몬의 타입을 지정해보자.\n",
    "member_type_list = [('물'), ('벌레', '비행'), ('노말', '비행'), ('노말'), ('바위', '땅'), ('바위')]\n",
    "member_type = zip(member, member_type_list) # zip() 함수는 리스트를 인덱스 순서에 맞게 튜플 형태로 묶어줍니다.\n",
    "print(list(member_type))"
   ]
  },
  {
   "cell_type": "code",
   "execution_count": 8,
   "metadata": {
    "colab": {
     "base_uri": "https://localhost:8080/"
    },
    "id": "3rFcRuFjqkGA",
    "outputId": "f35766ed-db84-4930-ff20-de0794054762"
   },
   "outputs": [
    {
     "name": "stdout",
     "output_type": "stream",
     "text": [
      "[('피카츄', '물'), ('라이츄', ('벌레', '비행')), ('리자몽', ('노말', '비행')), ('꼬부기', '노말'), ('버터플', ('바위', '땅')), ('피죤투', '바위')]\n"
     ]
    }
   ],
   "source": [
    "# 튜플\n",
    "\n",
    "# 포켓몬의 타입을 지정해보자.\n",
    "member_type_list = [('물'), ('벌레', '비행'), ('노말', '비행'), ('노말'), ('바위', '땅'), ('바위')]\n",
    "member_type = zip(member, member_type_list) # zip() 함수는 리스트를 인덱스 순서에 맞게 튜플 형태로 묶어줍니다.\n",
    "print(list(member_type))"
   ]
  },
  {
   "cell_type": "code",
   "execution_count": 9,
   "metadata": {
    "colab": {
     "base_uri": "https://localhost:8080/"
    },
    "id": "8rrtatcqrDnM",
    "outputId": "d2a1039d-846a-40d6-c67f-fafcbb5759b0"
   },
   "outputs": [
    {
     "name": "stdout",
     "output_type": "stream",
     "text": [
      "버터플의 특성: ('바위', '땅')\n",
      "버터플의 첫 번째 특성: 바위\n",
      "버터플의 두 번째 특성: 땅\n"
     ]
    }
   ],
   "source": [
    "# 딕셔너리\n",
    "member_type = zip(member, member_type_list)\n",
    "\n",
    "pokedex = dict(member_type)\n",
    "pokemon = '버터플'\n",
    "print(pokemon+'의 특성:', pokedex[pokemon]) # 딕셔너리 형태는 키 값으로 검색이 가능합니다.\n",
    "print(pokemon+'의 첫 번째 특성:', pokedex[pokemon][0])\n",
    "print(pokemon+'의 두 번째 특성:', pokedex[pokemon][1])"
   ]
  },
  {
   "cell_type": "markdown",
   "metadata": {
    "id": "FQrqAItXsJa2"
   },
   "source": [
    "### 6. 반복문"
   ]
  },
  {
   "cell_type": "code",
   "execution_count": 10,
   "metadata": {
    "colab": {
     "base_uri": "https://localhost:8080/"
    },
    "id": "poenlHD3rpct",
    "outputId": "a501f479-eb30-4d7d-ef10-5d717d60c351"
   },
   "outputs": [
    {
     "name": "stdout",
     "output_type": "stream",
     "text": [
      "1 번 포켓몬 피카츄\n",
      "2 번 포켓몬 라이츄\n",
      "3 번 포켓몬 리자몽\n",
      "4 번 포켓몬 꼬부기\n",
      "5 번 포켓몬 버터플\n",
      "6 번 포켓몬 피죤투\n"
     ]
    }
   ],
   "source": [
    "# 반복문\n",
    "\n",
    "n = 0\n",
    "for pokemon in member :\n",
    "  n += 1\n",
    "  print(n , '번 포켓몬', pokemon)"
   ]
  },
  {
   "cell_type": "markdown",
   "metadata": {
    "id": "xpk5I26GsaR4"
   },
   "source": [
    "## 네이버 뉴스 크롤링\n",
    "네이버에 'AI' 키워드로 검색한 뉴스 기사 결과 중 네이버 뉴스 링크가 있는 경우,<br>\n",
    "해당 네이버 뉴스의 본문 내용을 크롤링하는 실습을 해보도록 하겠습니다.<br>\n",
    "<br>\n",
    "첫 번째로, 네이버 뉴스 기사의 링크를 수집하고,<br>\n",
    "두 번째로, 네이버 뉴스 본문을 수집하겠습니다.<br>\n",
    "<br>\n",
    "이 실습 이후에는 대량의 데이터를 한 번에 수집할 수 있는 코드를 만들어 보겠습니다."
   ]
  },
  {
   "cell_type": "markdown",
   "metadata": {
    "id": "wuHOJFMRsddW"
   },
   "source": [
    "### BeautifulSoup\n",
    "우선 html 소스 코드를 불러와 BeautifulSoup으로 원하는 정보를 파싱해보도록 하겠습니다."
   ]
  },
  {
   "cell_type": "code",
   "execution_count": 62,
   "metadata": {
    "id": "ax4P3jH9scSv"
   },
   "outputs": [],
   "source": [
    "# 필요한 라이브러리(패키지) 불러오기\n",
    "import requests \n",
    "from bs4 import BeautifulSoup\n",
    "import time \n",
    "\n"
   ]
  },
  {
   "cell_type": "code",
   "execution_count": 63,
   "metadata": {
    "id": "p1CaJDnksiHc"
   },
   "outputs": [
    {
     "name": "stdout",
     "output_type": "stream",
     "text": [
      "<Response [200]>\n"
     ]
    }
   ],
   "source": [
    "# Requests\n",
    "url = 'https://search.naver.com/search.naver?where=news&sm=tab_pge&query=AI'\n",
    "r = requests.get(url)\n",
    "print(r)\n",
    "# 성공적으로 불러옴 "
   ]
  },
  {
   "cell_type": "code",
   "execution_count": 64,
   "metadata": {
    "id": "P03eNohRsiKL"
   },
   "outputs": [
    {
     "name": "stdout",
     "output_type": "stream",
     "text": [
      "<class 'str'>\n"
     ]
    }
   ],
   "source": [
    "# BeautifulSoup\n",
    "html = r.text\n",
    "print(type(html))\n",
    "soup = BeautifulSoup(html, 'html.parser')"
   ]
  },
  {
   "cell_type": "code",
   "execution_count": 65,
   "metadata": {
    "colab": {
     "base_uri": "https://localhost:8080/"
    },
    "id": "FOkVZ5vosiNN",
    "outputId": "c0ce1290-d027-4381-dc4b-876ca36a6654"
   },
   "outputs": [
    {
     "data": {
      "text/plain": [
       "<a class=\"news_tit\" href=\"http://www.newsis.com/view/?id=NISX20230206_0002181958&amp;cID=13001&amp;pID=13000\" onclick=\"return goOtherCR(this, 'a=nws*h.tit&amp;r=1&amp;i=88000127_000000000000000011676873&amp;g=003.0011676873&amp;u='+urlencode(this.href));\" target=\"_blank\" title=\"삼성·LG, AI 활용 공조솔루션으로 美시장 공략(종합)\">삼성·LG, <mark>AI</mark> 활용 공조솔루션으로 美시장 공략(종합)</a>"
      ]
     },
     "execution_count": 65,
     "metadata": {},
     "output_type": "execute_result"
    }
   ],
   "source": [
    "# 원하는 태그 찾기\n",
    "# soup.find('태그', attrs = {'속성 키1': '속성 값1', '속성 키2': '속성 값2'})\n",
    "soup.find('a',attrs = {'class': 'news_tit'})"
   ]
  },
  {
   "cell_type": "code",
   "execution_count": 66,
   "metadata": {
    "colab": {
     "base_uri": "https://localhost:8080/"
    },
    "id": "kjiKKAewspHe",
    "outputId": "7df1d351-a832-4e74-c8f1-e7cc45f112e3"
   },
   "outputs": [
    {
     "name": "stdout",
     "output_type": "stream",
     "text": [
      "삼성·LG, AI 활용 공조솔루션으로 美시장 공략(종합) http://www.newsis.com/view/?id=NISX20230206_0002181958&cID=13001&pID=13000\n"
     ]
    }
   ],
   "source": [
    "# 원하는 정보 추출하기\n",
    "title = soup.find('a',attrs = {'class': 'news_tit'}).text\n",
    "link = soup.find('a',attrs = {'class': 'news_tit'}).get('href')\n",
    "\n",
    "print(title, link)"
   ]
  },
  {
   "cell_type": "code",
   "execution_count": 67,
   "metadata": {
    "id": "Tn_N9KeAsqXc"
   },
   "outputs": [],
   "source": [
    "# find_all을 활용하여 페이지에서 원하는 모든 정보 추출하기\n",
    "url_tag_list = soup.find_all('a', attrs = {'class': 'news_tit'})"
   ]
  },
  {
   "cell_type": "code",
   "execution_count": 68,
   "metadata": {},
   "outputs": [
    {
     "data": {
      "text/plain": [
       "10"
      ]
     },
     "execution_count": 68,
     "metadata": {},
     "output_type": "execute_result"
    }
   ],
   "source": [
    "len(url_tag_list)"
   ]
  },
  {
   "cell_type": "code",
   "execution_count": 69,
   "metadata": {
    "colab": {
     "base_uri": "https://localhost:8080/"
    },
    "id": "sZsHVmQxsqZe",
    "outputId": "ebb5d889-3f84-45c9-dd96-cea602bbfef4"
   },
   "outputs": [
    {
     "name": "stdout",
     "output_type": "stream",
     "text": [
      "http://www.newsis.com/view/?id=NISX20230206_0002181958&cID=13001&pID=13000\n",
      "https://biz.chosun.com/science-chosun/science/2023/02/06/CG22NCPZ5RA5RGSVS6VIAS6ET4/?utm_source=naver&utm_medium=original&utm_campaign=biz\n",
      "https://www.hani.co.kr/arti/economy/it/1078406.html\n",
      "https://www.yna.co.kr/view/AKR20230206121900063?input=1195m\n",
      "http://www.fnnews.com/news/202302061517064740\n",
      "https://view.asiae.co.kr/article/2023020609374715363\n",
      "http://www.bloter.net/newsView/blt202302060008\n",
      "https://biz.chosun.com/science-chosun/bio/2023/02/06/L5KQYMK3LNGOTHWWZOJRRRC57I/?utm_source=naver&utm_medium=original&utm_campaign=biz\n",
      "https://biz.sbs.co.kr/article_hub/20000101689?division=NAVER\n",
      "https://www.donga.com/news/Economy/article/all/20230206/117747806/1\n"
     ]
    }
   ],
   "source": [
    "# 반복문을 활용하여 모든 태그에서 url 추출하기\n",
    "for url in url_tag_list:\n",
    "  print(url.get('href'))"
   ]
  },
  {
   "cell_type": "code",
   "execution_count": 70,
   "metadata": {
    "id": "ZExjTNwIsqbT"
   },
   "outputs": [
    {
     "data": {
      "text/plain": [
       "['http://www.newsis.com/view/?id=NISX20230206_0002181958&cID=13001&pID=13000',\n",
       " 'https://biz.chosun.com/science-chosun/science/2023/02/06/CG22NCPZ5RA5RGSVS6VIAS6ET4/?utm_source=naver&utm_medium=original&utm_campaign=biz',\n",
       " 'https://www.hani.co.kr/arti/economy/it/1078406.html',\n",
       " 'https://www.yna.co.kr/view/AKR20230206121900063?input=1195m',\n",
       " 'http://www.fnnews.com/news/202302061517064740',\n",
       " 'https://view.asiae.co.kr/article/2023020609374715363',\n",
       " 'http://www.bloter.net/newsView/blt202302060008',\n",
       " 'https://biz.chosun.com/science-chosun/bio/2023/02/06/L5KQYMK3LNGOTHWWZOJRRRC57I/?utm_source=naver&utm_medium=original&utm_campaign=biz',\n",
       " 'https://biz.sbs.co.kr/article_hub/20000101689?division=NAVER',\n",
       " 'https://www.donga.com/news/Economy/article/all/20230206/117747806/1']"
      ]
     },
     "execution_count": 70,
     "metadata": {},
     "output_type": "execute_result"
    }
   ],
   "source": [
    "# 반복문을 활용하여 url을 리스트에 저장하기\n",
    "url_list = []\n",
    "for url_tag in url_tag_list:\n",
    "    url = url_tag.get('href')\n",
    "    url_list.append(url)\n",
    "\n",
    "url_list"
   ]
  },
  {
   "cell_type": "code",
   "execution_count": 71,
   "metadata": {
    "id": "1moPqWNOsuaN"
   },
   "outputs": [],
   "source": [
    "# map과 lambda 함수를 활용하여 리스트에 저장하기\n",
    "# map(함수, 리스트)\n",
    "url_list = list(map(lambda x: x.get('href'), url_tag_list))"
   ]
  },
  {
   "cell_type": "code",
   "execution_count": 72,
   "metadata": {
    "id": "a6MAKTggsyax"
   },
   "outputs": [],
   "source": [
    "# test_url 지정\n",
    "test_url = url_list[0]"
   ]
  },
  {
   "cell_type": "code",
   "execution_count": 73,
   "metadata": {},
   "outputs": [],
   "source": [
    "# 제목 수집하기\n",
    "title_list = list(map(lambda x: x.get('title'), url_tag_list))"
   ]
  },
  {
   "cell_type": "code",
   "execution_count": 74,
   "metadata": {},
   "outputs": [
    {
     "data": {
      "text/plain": [
       "[('삼성·LG, AI 활용 공조솔루션으로 美시장 공략(종합)',\n",
       "  'http://www.newsis.com/view/?id=NISX20230206_0002181958&cID=13001&pID=13000'),\n",
       " ('물리법칙 적용해 영상 복원 신뢰도 높이는 AI 개발',\n",
       "  'https://biz.chosun.com/science-chosun/science/2023/02/06/CG22NCPZ5RA5RGSVS6VIAS6ET4/?utm_source=naver&utm_medium=original&utm_campaign=biz'),\n",
       " ('‘사람처럼 생각한다’는 당돌한 AI, 미래에 기회일까 위기일까',\n",
       "  'https://www.hani.co.kr/arti/economy/it/1078406.html'),\n",
       " ('보령시, AI 음성인식 스피커로 치매 환자 돌봄 공백 해소',\n",
       "  'https://www.yna.co.kr/view/AKR20230206121900063?input=1195m'),\n",
       " (\"중국 증시도 '챗GPT', AI 생성 콘텐츠 업체 주가 '껑충'\",\n",
       "  'http://www.fnnews.com/news/202302061517064740'),\n",
       " ('LG전자, AI 활용 고효율 상업용 시스템에어컨 선봬',\n",
       "  'https://view.asiae.co.kr/article/2023020609374715363'),\n",
       " (\"AI 음성·헬스케어 호실적에 챗GPT 여파까지…'준비된' 셀바스AI, 23년 높아진 기대감\",\n",
       "  'http://www.bloter.net/newsView/blt202302060008'),\n",
       " ('심전도 검사와 AI로 파킨슨병 감별한다',\n",
       "  'https://biz.chosun.com/science-chosun/bio/2023/02/06/L5KQYMK3LNGOTHWWZOJRRRC57I/?utm_source=naver&utm_medium=original&utm_campaign=biz'),\n",
       " ('오픈AI 기술책임자 \"챗GPT 악용될 수도…AI 규제 이르지 않다\"',\n",
       "  'https://biz.sbs.co.kr/article_hub/20000101689?division=NAVER'),\n",
       " ('챗GPT 충격파… AI가 검색-업무 SW-가전시장까지 재편',\n",
       "  'https://www.donga.com/news/Economy/article/all/20230206/117747806/1')]"
      ]
     },
     "execution_count": 74,
     "metadata": {},
     "output_type": "execute_result"
    }
   ],
   "source": [
    "# zip 함수\n",
    "list(zip(title_list, url_list))"
   ]
  },
  {
   "cell_type": "code",
   "execution_count": 75,
   "metadata": {},
   "outputs": [],
   "source": [
    "# 네이버 뉴스 링크 수집\n",
    "url_tag_list = soup.find_all('a',text = '네이버뉴스')\n",
    "url_list = list(map(lambda x: x.get('href'), url_tag_list))"
   ]
  },
  {
   "cell_type": "markdown",
   "metadata": {},
   "source": [
    "## 본문 내용 수집하기"
   ]
  },
  {
   "cell_type": "code",
   "execution_count": 76,
   "metadata": {
    "id": "avpjoHOBsyig"
   },
   "outputs": [],
   "source": [
    "# requests 모듈 오류로 urlopen 모듈로 대체\n",
    "from urllib.request import urlopen"
   ]
  },
  {
   "cell_type": "code",
   "execution_count": 77,
   "metadata": {
    "id": "BOB510yhs0_o"
   },
   "outputs": [
    {
     "name": "stdout",
     "output_type": "stream",
     "text": [
      "<http.client.HTTPResponse object at 0x000001AE2F3E2D30>\n"
     ]
    }
   ],
   "source": [
    "# urlopen으로 html 소스 코드 불러오기\n",
    "r = urlopen(test_url); print(r)\n",
    "html = r.read().decode(\"utf-8\") # 바이트(byte) 형태로 불러오기 때문에 디코딩 과정이 필요합니다.\n",
    "soup = BeautifulSoup(html, 'html.parser')"
   ]
  },
  {
   "cell_type": "code",
   "execution_count": 78,
   "metadata": {},
   "outputs": [
    {
     "data": {
      "text/plain": [
       "b''"
      ]
     },
     "execution_count": 78,
     "metadata": {},
     "output_type": "execute_result"
    }
   ],
   "source": [
    "r.read()"
   ]
  },
  {
   "cell_type": "code",
   "execution_count": 79,
   "metadata": {},
   "outputs": [],
   "source": [
    "soup.find('h2',attrs = {'id','title_area'})"
   ]
  },
  {
   "cell_type": "code",
   "execution_count": 80,
   "metadata": {
    "id": "DV0eLYHGs2NO"
   },
   "outputs": [
    {
     "ename": "AttributeError",
     "evalue": "'NoneType' object has no attribute 'text'",
     "output_type": "error",
     "traceback": [
      "\u001b[1;31m---------------------------------------------------------------------------\u001b[0m",
      "\u001b[1;31mAttributeError\u001b[0m                            Traceback (most recent call last)",
      "\u001b[1;32m~\\AppData\\Local\\Temp\\ipykernel_2412\\543332562.py\u001b[0m in \u001b[0;36m<module>\u001b[1;34m\u001b[0m\n\u001b[0;32m      1\u001b[0m \u001b[1;31m# 제목 수집 및 출력\u001b[0m\u001b[1;33m\u001b[0m\u001b[1;33m\u001b[0m\u001b[0m\n\u001b[0;32m      2\u001b[0m \u001b[1;33m\u001b[0m\u001b[0m\n\u001b[1;32m----> 3\u001b[1;33m \u001b[0mtitle\u001b[0m \u001b[1;33m=\u001b[0m \u001b[0msoup\u001b[0m\u001b[1;33m.\u001b[0m\u001b[0mfind\u001b[0m\u001b[1;33m(\u001b[0m\u001b[1;34m'h2'\u001b[0m\u001b[1;33m,\u001b[0m\u001b[0mattrs\u001b[0m \u001b[1;33m=\u001b[0m \u001b[1;33m{\u001b[0m\u001b[1;34m'id'\u001b[0m\u001b[1;33m,\u001b[0m\u001b[1;34m'title_area'\u001b[0m\u001b[1;33m}\u001b[0m\u001b[1;33m)\u001b[0m\u001b[1;33m.\u001b[0m\u001b[0mtext\u001b[0m\u001b[1;33m\u001b[0m\u001b[1;33m\u001b[0m\u001b[0m\n\u001b[0m\u001b[0;32m      4\u001b[0m \u001b[0mprint\u001b[0m\u001b[1;33m(\u001b[0m\u001b[0mtitle\u001b[0m\u001b[1;33m)\u001b[0m\u001b[1;33m\u001b[0m\u001b[1;33m\u001b[0m\u001b[0m\n",
      "\u001b[1;31mAttributeError\u001b[0m: 'NoneType' object has no attribute 'text'"
     ]
    }
   ],
   "source": [
    "# 제목 수집 및 출력\n",
    "\n",
    "title = soup.find('h2',attrs = {'id','title_area'}).text\n",
    "print(title)"
   ]
  },
  {
   "cell_type": "code",
   "execution_count": 60,
   "metadata": {
    "id": "AxS04Qups2Rv"
   },
   "outputs": [
    {
     "ename": "AttributeError",
     "evalue": "'NoneType' object has no attribute 'text'",
     "output_type": "error",
     "traceback": [
      "\u001b[1;31m---------------------------------------------------------------------------\u001b[0m",
      "\u001b[1;31mAttributeError\u001b[0m                            Traceback (most recent call last)",
      "\u001b[1;32m~\\AppData\\Local\\Temp\\ipykernel_2412\\1763379056.py\u001b[0m in \u001b[0;36m<module>\u001b[1;34m\u001b[0m\n\u001b[0;32m      1\u001b[0m \u001b[1;31m# 본문 내용 수집 및 출력\u001b[0m\u001b[1;33m\u001b[0m\u001b[1;33m\u001b[0m\u001b[0m\n\u001b[1;32m----> 2\u001b[1;33m \u001b[0mcontent\u001b[0m \u001b[1;33m=\u001b[0m \u001b[0msoup\u001b[0m\u001b[1;33m.\u001b[0m\u001b[0mfind\u001b[0m\u001b[1;33m(\u001b[0m\u001b[1;34m'div'\u001b[0m\u001b[1;33m,\u001b[0m \u001b[1;33m{\u001b[0m\u001b[1;34m'id'\u001b[0m \u001b[1;33m:\u001b[0m \u001b[1;34m'dic_area'\u001b[0m\u001b[1;33m}\u001b[0m\u001b[1;33m)\u001b[0m\u001b[1;33m.\u001b[0m\u001b[0mtext\u001b[0m\u001b[1;33m\u001b[0m\u001b[1;33m\u001b[0m\u001b[0m\n\u001b[0m\u001b[0;32m      3\u001b[0m \u001b[0mprint\u001b[0m\u001b[1;33m(\u001b[0m\u001b[0mcontent\u001b[0m\u001b[1;33m)\u001b[0m\u001b[1;33m\u001b[0m\u001b[1;33m\u001b[0m\u001b[0m\n",
      "\u001b[1;31mAttributeError\u001b[0m: 'NoneType' object has no attribute 'text'"
     ]
    }
   ],
   "source": [
    "# 본문 내용 수집 및 출력\n",
    "content = soup.find('div', {'id' : 'dic_area'}).text\n",
    "print(content)"
   ]
  },
  {
   "cell_type": "code",
   "execution_count": 82,
   "metadata": {
    "id": "58XH12pus2YA"
   },
   "outputs": [],
   "source": [
    "# 언론사 수집\n",
    "content_list = soup.find('img')\n"
   ]
  },
  {
   "cell_type": "code",
   "execution_count": 83,
   "metadata": {
    "id": "5Yst1bdWs6aN"
   },
   "outputs": [
    {
     "ename": "NameError",
     "evalue": "name 'content' is not defined",
     "output_type": "error",
     "traceback": [
      "\u001b[1;31m---------------------------------------------------------------------------\u001b[0m",
      "\u001b[1;31mNameError\u001b[0m                                 Traceback (most recent call last)",
      "\u001b[1;32m~\\AppData\\Local\\Temp\\ipykernel_2412\\2645887914.py\u001b[0m in \u001b[0;36m<module>\u001b[1;34m\u001b[0m\n\u001b[0;32m      1\u001b[0m \u001b[1;31m# 수집 결과\u001b[0m\u001b[1;33m\u001b[0m\u001b[1;33m\u001b[0m\u001b[0m\n\u001b[1;32m----> 2\u001b[1;33m \u001b[0mresult\u001b[0m \u001b[1;33m=\u001b[0m \u001b[0mtitle\u001b[0m\u001b[1;33m,\u001b[0m \u001b[0mcontent\u001b[0m\u001b[1;33m\u001b[0m\u001b[1;33m\u001b[0m\u001b[0m\n\u001b[0m",
      "\u001b[1;31mNameError\u001b[0m: name 'content' is not defined"
     ]
    }
   ],
   "source": [
    "# 수집 결과\n",
    "result = title, content"
   ]
  },
  {
   "cell_type": "code",
   "execution_count": 86,
   "metadata": {
    "id": "PpvEd5zMs6ge"
   },
   "outputs": [],
   "source": [
    "# 사용자 정의 함수로 html 소스 코드 불러오기\n",
    "def get_html(url):\n",
    "    r = urlopen(url)\n",
    "    html = r.read().decode('utf-8')\n",
    "    soup = BeautifulSoup(html,'html.parser')\n",
    "    \n",
    "    return soup \n",
    "\n",
    "    "
   ]
  },
  {
   "cell_type": "code",
   "execution_count": 87,
   "metadata": {},
   "outputs": [
    {
     "ename": "TypeError",
     "evalue": "'NoneType' object is not callable",
     "output_type": "error",
     "traceback": [
      "\u001b[1;31m---------------------------------------------------------------------------\u001b[0m",
      "\u001b[1;31mTypeError\u001b[0m                                 Traceback (most recent call last)",
      "\u001b[1;32m~\\AppData\\Local\\Temp\\ipykernel_2412\\1901732263.py\u001b[0m in \u001b[0;36m<module>\u001b[1;34m\u001b[0m\n\u001b[0;32m      5\u001b[0m \u001b[1;33m\u001b[0m\u001b[0m\n\u001b[0;32m      6\u001b[0m \u001b[1;33m\u001b[0m\u001b[0m\n\u001b[1;32m----> 7\u001b[1;33m     \u001b[0msoup\u001b[0m \u001b[1;33m=\u001b[0m \u001b[0mBeautifulSoup\u001b[0m\u001b[1;33m(\u001b[0m\u001b[0mhtml\u001b[0m\u001b[1;33m,\u001b[0m\u001b[1;34m'html.parser'\u001b[0m\u001b[1;33m)\u001b[0m\u001b[1;33m\u001b[0m\u001b[1;33m\u001b[0m\u001b[0m\n\u001b[0m\u001b[0;32m      8\u001b[0m     \u001b[0mtitle\u001b[0m \u001b[1;33m=\u001b[0m \u001b[0msoup\u001b[0m\u001b[1;33m.\u001b[0m\u001b[0mfind\u001b[0m\u001b[1;33m(\u001b[0m\u001b[1;34m'h2'\u001b[0m\u001b[1;33m)\u001b[0m\u001b[1;33m.\u001b[0m\u001b[0mtext\u001b[0m\u001b[1;33m\u001b[0m\u001b[1;33m\u001b[0m\u001b[0m\n\u001b[0;32m      9\u001b[0m     \u001b[0mcontent\u001b[0m \u001b[1;33m=\u001b[0m \u001b[0msoup\u001b[0m\u001b[1;33m.\u001b[0m\u001b[0mfind\u001b[0m\u001b[1;33m(\u001b[0m\u001b[1;34m'div'\u001b[0m\u001b[1;33m,\u001b[0m\u001b[1;34m'media_end_head_top_logo'\u001b[0m\u001b[1;33m)\u001b[0m\u001b[1;33m.\u001b[0m\u001b[0mimg\u001b[0m\u001b[1;33m.\u001b[0m\u001b[0mget\u001b[0m\u001b[1;33m(\u001b[0m\u001b[1;34m'title'\u001b[0m\u001b[1;33m)\u001b[0m\u001b[1;33m\u001b[0m\u001b[1;33m\u001b[0m\u001b[0m\n",
      "\u001b[1;32m~\\anaconda3\\lib\\site-packages\\bs4\\__init__.py\u001b[0m in \u001b[0;36m__init__\u001b[1;34m(self, markup, features, builder, parse_only, from_encoding, exclude_encodings, element_classes, **kwargs)\u001b[0m\n\u001b[0;32m    310\u001b[0m \u001b[1;33m\u001b[0m\u001b[0m\n\u001b[0;32m    311\u001b[0m         \u001b[1;32mif\u001b[0m \u001b[0mhasattr\u001b[0m\u001b[1;33m(\u001b[0m\u001b[0mmarkup\u001b[0m\u001b[1;33m,\u001b[0m \u001b[1;34m'read'\u001b[0m\u001b[1;33m)\u001b[0m\u001b[1;33m:\u001b[0m        \u001b[1;31m# It's a file-type object.\u001b[0m\u001b[1;33m\u001b[0m\u001b[1;33m\u001b[0m\u001b[0m\n\u001b[1;32m--> 312\u001b[1;33m             \u001b[0mmarkup\u001b[0m \u001b[1;33m=\u001b[0m \u001b[0mmarkup\u001b[0m\u001b[1;33m.\u001b[0m\u001b[0mread\u001b[0m\u001b[1;33m(\u001b[0m\u001b[1;33m)\u001b[0m\u001b[1;33m\u001b[0m\u001b[1;33m\u001b[0m\u001b[0m\n\u001b[0m\u001b[0;32m    313\u001b[0m         elif len(markup) <= 256 and (\n\u001b[0;32m    314\u001b[0m                 \u001b[1;33m(\u001b[0m\u001b[0misinstance\u001b[0m\u001b[1;33m(\u001b[0m\u001b[0mmarkup\u001b[0m\u001b[1;33m,\u001b[0m \u001b[0mbytes\u001b[0m\u001b[1;33m)\u001b[0m \u001b[1;32mand\u001b[0m \u001b[1;32mnot\u001b[0m \u001b[1;34mb'<'\u001b[0m \u001b[1;32min\u001b[0m \u001b[0mmarkup\u001b[0m\u001b[1;33m)\u001b[0m\u001b[1;33m\u001b[0m\u001b[1;33m\u001b[0m\u001b[0m\n",
      "\u001b[1;31mTypeError\u001b[0m: 'NoneType' object is not callable"
     ]
    }
   ],
   "source": [
    "data_list =[]\n",
    "for url in url_list:\n",
    "    html = get_html(url)\n",
    "    time.sleep(1)\n",
    "    \n",
    "    \n",
    "    soup = BeautifulSoup(html,'html.parser')\n",
    "    title = soup.find('h2').text\n",
    "    content = soup.find('div','media_end_head_top_logo').img.get('title')\n",
    "    media = soup.find('a','media_end_head_top_logo').img.get('title')\n",
    "    \n",
    "    data = title,content,media\n",
    "    data_list.append(data)\n",
    "    \n",
    "    time.sleep(1)\n",
    "    print(title, media, sep=':')"
   ]
  },
  {
   "cell_type": "code",
   "execution_count": null,
   "metadata": {},
   "outputs": [],
   "source": []
  }
 ],
 "metadata": {
  "colab": {
   "provenance": [],
   "toc_visible": true
  },
  "kernelspec": {
   "display_name": "Python 3 (ipykernel)",
   "language": "python",
   "name": "python3"
  },
  "language_info": {
   "codemirror_mode": {
    "name": "ipython",
    "version": 3
   },
   "file_extension": ".py",
   "mimetype": "text/x-python",
   "name": "python",
   "nbconvert_exporter": "python",
   "pygments_lexer": "ipython3",
   "version": "3.9.13"
  }
 },
 "nbformat": 4,
 "nbformat_minor": 1
}
